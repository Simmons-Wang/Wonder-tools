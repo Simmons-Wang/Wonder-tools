{
 "cells": [
  {
   "cell_type": "code",
   "execution_count": 1,
   "metadata": {
    "collapsed": true,
    "pycharm": {
     "name": "#%%\n"
    }
   },
   "outputs": [],
   "source": [
    "from joblib import Parallel, delayed\n",
    "import numpy as np\n",
    "import random\n",
    "from line_profiler import LineProfiler\n",
    "from numba import jit\n",
    "import time"
   ]
  },
  {
   "cell_type": "code",
   "execution_count": 2,
   "outputs": [],
   "source": [
    "def timerDetail(f, *x):\n",
    "    \"\"\"test the time consumption\"\"\"\n",
    "    lp = LineProfiler()\n",
    "    lp_wrapper = lp(f)\n",
    "    lp_wrapper(*x)\n",
    "    lp.print_stats()\n",
    "\n",
    "\n",
    "def timer(f, *x):\n",
    "    \"\"\"test the time consumption\"\"\"\n",
    "    start = time.time()\n",
    "    test1 = f(*x)\n",
    "    print(time.time() - start)"
   ],
   "metadata": {
    "collapsed": false,
    "pycharm": {
     "name": "#%%\n"
    }
   }
  },
  {
   "cell_type": "code",
   "execution_count": 3,
   "outputs": [],
   "source": [
    "@jit(nopython=True)\n",
    "def St_cal(num_steps, K, dLambda, sigma, S0):\n",
    "    St = S0\n",
    "    for k in range(num_steps):\n",
    "        dNormal = float(random.normalvariate(0, 1 / num_steps))\n",
    "        power_term = float(pow(St, dLambda))\n",
    "        St = St + sigma * power_term * dNormal\n",
    "    return max(St - K, 0)"
   ],
   "metadata": {
    "collapsed": false,
    "pycharm": {
     "name": "#%%\n"
    }
   }
  },
  {
   "cell_type": "code",
   "execution_count": 4,
   "outputs": [],
   "source": [
    "class PriceMc:\n",
    "\n",
    "    def __init__(self, num_data, num_simulations, num_steps, S0):\n",
    "        self.num_data = num_data\n",
    "        self.num_simulations = num_simulations\n",
    "        self.num_steps = num_steps\n",
    "        self.steps_vec = np.full((self.num_simulations,), self.num_steps)\n",
    "        self.S0 = S0\n",
    "        self.Ks = np.random.uniform(0.8, 1.2, (self.num_data,))\n",
    "        self.dLambdas = np.random.uniform(1 / 2, 3 / 2, (self.num_data,))\n",
    "        self.sigmas = np.random.uniform(1 / 10, 1 / 2, (self.num_data,))\n",
    "        self.price_vec = self.price_gen()\n",
    "\n",
    "    def mc_simulation(self, K, dLambda, sigma):\n",
    "        st_cal_vec = np.vectorize(St_cal)\n",
    "        return np.sum(st_cal_vec(self.steps_vec, K, dLambda, sigma, self.S0)) / self.num_simulations\n",
    "\n",
    "    def price_gen(self):\n",
    "        return Parallel(n_jobs=5)(delayed(self.mc_simulation)\n",
    "                                  (self.Ks[i], self.dLambdas[i], self.sigmas[i])\n",
    "                                  for i in range(self.num_data))"
   ],
   "metadata": {
    "collapsed": false,
    "pycharm": {
     "name": "#%%\n"
    }
   }
  },
  {
   "cell_type": "code",
   "execution_count": 5,
   "outputs": [],
   "source": [
    "def test_for(num_data, num_simulations, num_steps, S0):\n",
    "    data_MC = []\n",
    "    for i in range(num_data):\n",
    "        K = float(random.uniform(0.8, 1.2))\n",
    "        dLambda = float(random.uniform(1 / 2, 3 / 2))\n",
    "        sigma = float(random.uniform(1 / 10, 1 / 2))\n",
    "        P = 0\n",
    "        for h in range(num_simulations):\n",
    "            St = S0\n",
    "            for k in range(num_steps):\n",
    "                dNormal = float(random.normalvariate(0, 1 / num_steps))\n",
    "                power_term = float(pow(St, dLambda))\n",
    "                # if type(power_term) == complex:\n",
    "                #     continue\n",
    "                St = St + sigma * power_term * dNormal  # St+1 = St + r * St * dt + sigma * St**lambda * n\n",
    "            P += max(St - K, 0) / num_simulations\n",
    "        data_MC.append([P, K, dLambda, sigma])\n",
    "    return data_MC"
   ],
   "metadata": {
    "collapsed": false,
    "pycharm": {
     "name": "#%%\n"
    }
   }
  },
  {
   "cell_type": "code",
   "execution_count": 6,
   "outputs": [
    {
     "name": "stdout",
     "output_type": "stream",
     "text": [
      "1164.1034698486328\n"
     ]
    }
   ],
   "source": [
    "timer(test_for, *[10000, 1000, 100, 1])"
   ],
   "metadata": {
    "collapsed": false,
    "pycharm": {
     "name": "#%%\n"
    }
   }
  },
  {
   "cell_type": "code",
   "execution_count": 8,
   "outputs": [
    {
     "name": "stdout",
     "output_type": "stream",
     "text": [
      "13.027849435806274\n"
     ]
    }
   ],
   "source": [
    "timer(PriceMc, *[10000, 1000, 100, 1])"
   ],
   "metadata": {
    "collapsed": false,
    "pycharm": {
     "name": "#%%\n"
    }
   }
  }
 ],
 "metadata": {
  "kernelspec": {
   "display_name": "Python 3",
   "language": "python",
   "name": "python3"
  },
  "language_info": {
   "codemirror_mode": {
    "name": "ipython",
    "version": 2
   },
   "file_extension": ".py",
   "mimetype": "text/x-python",
   "name": "python",
   "nbconvert_exporter": "python",
   "pygments_lexer": "ipython2",
   "version": "2.7.6"
  }
 },
 "nbformat": 4,
 "nbformat_minor": 0
}